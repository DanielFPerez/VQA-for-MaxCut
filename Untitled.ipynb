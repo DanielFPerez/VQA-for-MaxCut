{
 "cells": [
  {
   "cell_type": "code",
   "execution_count": 8,
   "id": "3f01de1d-39c0-4591-8a9f-44283eca5608",
   "metadata": {},
   "outputs": [
    {
     "ename": "ModuleNotFoundError",
     "evalue": "No module named 'qiskit'",
     "output_type": "error",
     "traceback": [
      "\u001b[0;31m---------------------------------------------------------------------------\u001b[0m",
      "\u001b[0;31mModuleNotFoundError\u001b[0m                       Traceback (most recent call last)",
      "Cell \u001b[0;32mIn[8], line 2\u001b[0m\n\u001b[1;32m      1\u001b[0m \u001b[38;5;66;03m# Step 2: Import necessary modules\u001b[39;00m\n\u001b[0;32m----> 2\u001b[0m \u001b[38;5;28;01mfrom\u001b[39;00m \u001b[38;5;21;01mqiskit\u001b[39;00m \u001b[38;5;28;01mimport\u001b[39;00m QuantumCircuit\n\u001b[1;32m      4\u001b[0m \u001b[38;5;66;03m# Step 3: Create a quantum circuit\u001b[39;00m\n\u001b[1;32m      5\u001b[0m \u001b[38;5;66;03m# Let's create a quantum circuit with 2 qubits and 2 classical bits\u001b[39;00m\n\u001b[1;32m      6\u001b[0m qc \u001b[38;5;241m=\u001b[39m QuantumCircuit(\u001b[38;5;241m2\u001b[39m, \u001b[38;5;241m2\u001b[39m)\n",
      "\u001b[0;31mModuleNotFoundError\u001b[0m: No module named 'qiskit'"
     ]
    }
   ],
   "source": [
    "# Step 2: Import necessary modules\n",
    "from qiskit import QuantumCircuit\n",
    "\n",
    "# Step 3: Create a quantum circuit\n",
    "# Let's create a quantum circuit with 2 qubits and 2 classical bits\n",
    "qc = QuantumCircuit(2, 2)\n",
    "\n",
    "# Step 4: Add gates to the circuit\n",
    "# Apply a Hadamard gate to the first qubit\n",
    "qc.h(0)\n",
    "# Apply a CNOT gate with control qubit 0 and target qubit 1\n",
    "qc.cx(0, 1)\n",
    "# Measure both qubits\n",
    "qc.measure([0, 1], [0, 1])\n",
    "\n",
    "# Step 5: Draw the circuit\n",
    "# Draw the circuit in text format\n",
    "print(qc.draw(output='text'))\n",
    "\n",
    "# Draw the circuit in matplotlib format (requires matplotlib to be installed)\n",
    "qc.draw(output='mpl')\n"
   ]
  },
  {
   "cell_type": "code",
   "execution_count": null,
   "id": "92b6ba39-afee-446a-8099-4dcfde3e9d5c",
   "metadata": {},
   "outputs": [],
   "source": []
  }
 ],
 "metadata": {
  "kernelspec": {
   "display_name": "Python 3 (ipykernel)",
   "language": "python",
   "name": "python3"
  },
  "language_info": {
   "codemirror_mode": {
    "name": "ipython",
    "version": 3
   },
   "file_extension": ".py",
   "mimetype": "text/x-python",
   "name": "python",
   "nbconvert_exporter": "python",
   "pygments_lexer": "ipython3",
   "version": "3.8.10"
  }
 },
 "nbformat": 4,
 "nbformat_minor": 5
}
