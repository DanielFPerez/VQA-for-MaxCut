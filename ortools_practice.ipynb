{
 "cells": [
  {
   "cell_type": "code",
   "execution_count": 1,
   "id": "c7716841-30c0-4674-84eb-18ea6a709c8c",
   "metadata": {},
   "outputs": [],
   "source": [
    "import networkx as nx\n",
    "from ortools.sat.python import cp_model"
   ]
  },
  {
   "cell_type": "code",
   "execution_count": 2,
   "id": "bd567efa-222f-40bf-8164-8c0a681b884f",
   "metadata": {},
   "outputs": [],
   "source": [
    "model = cp_model.CpModel()"
   ]
  },
  {
   "cell_type": "code",
   "execution_count": 3,
   "id": "865f767d-facb-4a2c-977d-a6472606b701",
   "metadata": {},
   "outputs": [
    {
     "data": {
      "text/plain": [
       "ortools.sat.python.cp_model.CpModel"
      ]
     },
     "execution_count": 3,
     "metadata": {},
     "output_type": "execute_result"
    }
   ],
   "source": [
    "type(model)"
   ]
  },
  {
   "cell_type": "code",
   "execution_count": 4,
   "id": "82f5bd54-02de-4295-ae61-aa6c845870d3",
   "metadata": {},
   "outputs": [],
   "source": [
    "x = model.new_int_var(0, 100, \"x\")"
   ]
  },
  {
   "cell_type": "code",
   "execution_count": 5,
   "id": "f9bc2468-4c74-4933-904b-22122e14fef7",
   "metadata": {},
   "outputs": [
    {
     "data": {
      "text/plain": [
       "ortools.sat.python.cp_model.IntVar"
      ]
     },
     "execution_count": 5,
     "metadata": {},
     "output_type": "execute_result"
    }
   ],
   "source": [
    "type(x)"
   ]
  },
  {
   "cell_type": "code",
   "execution_count": 6,
   "id": "ac629c18-7206-4459-8cc4-f13bc67d5368",
   "metadata": {},
   "outputs": [],
   "source": [
    "x = x+1"
   ]
  },
  {
   "cell_type": "code",
   "execution_count": 7,
   "id": "31542e38-75ce-4620-b4f4-f005d1a21604",
   "metadata": {},
   "outputs": [
    {
     "data": {
      "text/plain": [
       "sum(x(0..100), 1)"
      ]
     },
     "execution_count": 7,
     "metadata": {},
     "output_type": "execute_result"
    }
   ],
   "source": [
    "x"
   ]
  },
  {
   "cell_type": "code",
   "execution_count": 8,
   "id": "2e51f13a-7ded-4046-a7c0-8e69a3a4d002",
   "metadata": {},
   "outputs": [],
   "source": [
    "# a = model.new_bool_var(\"a\")\n",
    "a = model.new_int_var(0, 1, \"a\")"
   ]
  },
  {
   "cell_type": "code",
   "execution_count": 9,
   "id": "e60a6ac7-4da9-490b-8c88-369996a5fdc2",
   "metadata": {},
   "outputs": [],
   "source": [
    "#b = model.new_bool_var(\"b\")\n",
    "b = model.new_int_var(0, 1, \"b\")"
   ]
  },
  {
   "cell_type": "code",
   "execution_count": 10,
   "id": "a663d074-bedf-4a00-83c6-c727a5e9876f",
   "metadata": {},
   "outputs": [
    {
     "ename": "TypeError",
     "evalue": "Not a number: b of type <class 'ortools.sat.python.cp_model.IntVar'>",
     "output_type": "error",
     "traceback": [
      "\u001b[0;31m---------------------------------------------------------------------------\u001b[0m",
      "\u001b[0;31mTypeError\u001b[0m                                 Traceback (most recent call last)",
      "Cell \u001b[0;32mIn[10], line 1\u001b[0m\n\u001b[0;32m----> 1\u001b[0m \u001b[43ma\u001b[49m\u001b[38;5;241;43m*\u001b[39;49m\u001b[43mb\u001b[49m\n",
      "File \u001b[0;32m/usr/local/share/virtualenvs/py_ortools/lib/python3.10/site-packages/ortools/sat/python/cp_model.py:489\u001b[0m, in \u001b[0;36mLinearExpr.__mul__\u001b[0;34m(self, arg)\u001b[0m\n\u001b[1;32m    488\u001b[0m \u001b[38;5;28;01mdef\u001b[39;00m \u001b[38;5;21m__mul__\u001b[39m(\u001b[38;5;28mself\u001b[39m, arg):\n\u001b[0;32m--> 489\u001b[0m     arg \u001b[38;5;241m=\u001b[39m \u001b[43mcmh\u001b[49m\u001b[38;5;241;43m.\u001b[39;49m\u001b[43massert_is_a_number\u001b[49m\u001b[43m(\u001b[49m\u001b[43marg\u001b[49m\u001b[43m)\u001b[49m\n\u001b[1;32m    490\u001b[0m     \u001b[38;5;28;01mif\u001b[39;00m cmh\u001b[38;5;241m.\u001b[39mis_one(arg):\n\u001b[1;32m    491\u001b[0m         \u001b[38;5;28;01mreturn\u001b[39;00m \u001b[38;5;28mself\u001b[39m\n",
      "File \u001b[0;32m/usr/local/share/virtualenvs/py_ortools/lib/python3.10/site-packages/ortools/sat/python/cp_model_helper.py:99\u001b[0m, in \u001b[0;36massert_is_a_number\u001b[0;34m(x)\u001b[0m\n\u001b[1;32m     97\u001b[0m \u001b[38;5;28;01mif\u001b[39;00m \u001b[38;5;28misinstance\u001b[39m(x, numbers\u001b[38;5;241m.\u001b[39mReal):\n\u001b[1;32m     98\u001b[0m     \u001b[38;5;28;01mreturn\u001b[39;00m \u001b[38;5;28mfloat\u001b[39m(x)\n\u001b[0;32m---> 99\u001b[0m \u001b[38;5;28;01mraise\u001b[39;00m \u001b[38;5;167;01mTypeError\u001b[39;00m(\u001b[38;5;124mf\u001b[39m\u001b[38;5;124m\"\u001b[39m\u001b[38;5;124mNot a number: \u001b[39m\u001b[38;5;132;01m{\u001b[39;00mx\u001b[38;5;132;01m}\u001b[39;00m\u001b[38;5;124m of type \u001b[39m\u001b[38;5;132;01m{\u001b[39;00m\u001b[38;5;28mtype\u001b[39m(x)\u001b[38;5;132;01m}\u001b[39;00m\u001b[38;5;124m\"\u001b[39m)\n",
      "\u001b[0;31mTypeError\u001b[0m: Not a number: b of type <class 'ortools.sat.python.cp_model.IntVar'>"
     ]
    }
   ],
   "source": [
    "a*b"
   ]
  },
  {
   "cell_type": "code",
   "execution_count": 11,
   "id": "af40550c-aac0-4741-9f43-2e45aba402c0",
   "metadata": {},
   "outputs": [
    {
     "data": {
      "text/plain": [
       "sum(a(0..1), b(0..1))"
      ]
     },
     "execution_count": 11,
     "metadata": {},
     "output_type": "execute_result"
    }
   ],
   "source": [
    "a + b"
   ]
  },
  {
   "cell_type": "code",
   "execution_count": 12,
   "id": "703329df-fe32-43e0-8d1a-7443db51684a",
   "metadata": {},
   "outputs": [],
   "source": [
    "model = cp_model.CpModel()\n",
    "x = model.new_int_var(-100, 100, \"x\")\n",
    "y = model.new_int_var(-100, 100, \"y\")\n",
    "\n",
    "model.add(x - y == 0)\n",
    "model.add(4 - x == 2 * y)\n",
    "\n",
    "solver = cp_model.CpSolver()\n",
    "status = solver.solve(model)"
   ]
  },
  {
   "cell_type": "code",
   "execution_count": 14,
   "id": "e9397d81-9d3d-4aae-8922-e38cc812136b",
   "metadata": {},
   "outputs": [
    {
     "data": {
      "text/plain": [
       "True"
      ]
     },
     "execution_count": 14,
     "metadata": {},
     "output_type": "execute_result"
    }
   ],
   "source": [
    "status == cp_model.INFEASIBLE"
   ]
  },
  {
   "cell_type": "code",
   "execution_count": 15,
   "id": "b3b4e548-240d-4a2b-9222-88e2d4da1da4",
   "metadata": {},
   "outputs": [
    {
     "data": {
      "text/plain": [
       "1.3333333333333333"
      ]
     },
     "execution_count": 15,
     "metadata": {},
     "output_type": "execute_result"
    }
   ],
   "source": [
    "4/3"
   ]
  },
  {
   "cell_type": "code",
   "execution_count": null,
   "id": "a64952b4-5f4a-4198-9f38-9af6c62f439a",
   "metadata": {},
   "outputs": [],
   "source": [
    "model.add_bool_xor()"
   ]
  },
  {
   "cell_type": "code",
   "execution_count": null,
   "id": "189f5c89-f6fa-443b-af32-d857a53aea9d",
   "metadata": {},
   "outputs": [],
   "source": []
  },
  {
   "cell_type": "code",
   "execution_count": null,
   "id": "a3a18b69-abcd-4bc9-82b0-d1991acf1bc1",
   "metadata": {},
   "outputs": [],
   "source": []
  },
  {
   "cell_type": "code",
   "execution_count": null,
   "id": "523a0678-31e1-4b31-bf5c-0b2666b6be0c",
   "metadata": {},
   "outputs": [],
   "source": []
  },
  {
   "cell_type": "code",
   "execution_count": null,
   "id": "750af540-81e3-4900-a63e-3f64debf87d8",
   "metadata": {},
   "outputs": [],
   "source": []
  },
  {
   "cell_type": "code",
   "execution_count": null,
   "id": "6ff64851-14cf-41c8-b0a7-b29978b709b1",
   "metadata": {},
   "outputs": [],
   "source": []
  },
  {
   "cell_type": "code",
   "execution_count": null,
   "id": "43408c3c-29bb-40c9-a312-f802056a0fe3",
   "metadata": {},
   "outputs": [],
   "source": []
  },
  {
   "cell_type": "code",
   "execution_count": null,
   "id": "3a20786e-1a0b-48c5-8d29-95f231080537",
   "metadata": {},
   "outputs": [],
   "source": []
  }
 ],
 "metadata": {
  "kernelspec": {
   "display_name": "Python 3 (ipykernel)",
   "language": "python",
   "name": "python3"
  },
  "language_info": {
   "codemirror_mode": {
    "name": "ipython",
    "version": 3
   },
   "file_extension": ".py",
   "mimetype": "text/x-python",
   "name": "python",
   "nbconvert_exporter": "python",
   "pygments_lexer": "ipython3",
   "version": "3.10.12"
  }
 },
 "nbformat": 4,
 "nbformat_minor": 5
}
