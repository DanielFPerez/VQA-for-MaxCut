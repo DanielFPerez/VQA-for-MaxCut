{
 "cells": [
  {
   "cell_type": "code",
   "execution_count": 12,
   "id": "d6d93cb0-1bbe-4945-95a1-5f3cddfee9f0",
   "metadata": {},
   "outputs": [],
   "source": [
    "import numpy as np\n",
    "\n",
    "# Import Qiskit\n",
    "from qiskit import QuantumCircuit, transpile\n",
    "from qiskit_aer import AerSimulator\n",
    "from qiskit.visualization import plot_histogram, plot_state_city\n",
    "import qiskit.quantum_info as qi\n",
    "\n",
    "from qiskit_aer import AerError"
   ]
  },
  {
   "cell_type": "code",
   "execution_count": 22,
   "id": "19913754-8ca7-4768-aee7-4796a47dd65d",
   "metadata": {},
   "outputs": [],
   "source": [
    "import networkx as nx\n",
    "import numpy as np\n",
    "from qiskit_aer import Aer\n",
    "from qiskit import transpile\n",
    "\n",
    "from qiskit_algorithms import QAOA\n",
    "from qiskit_algorithms.optimizers import COBYLA\n",
    "from qiskit_optimization import QuadraticProgram\n",
    "from qiskit_optimization.algorithms import MinimumEigenOptimizer\n",
    "from qiskit_algorithms.utils import algorithm_globals\n",
    "from matplotlib import pyplot as plt\n",
    "\n",
    "try:\n",
    "    simulator = AerSimulator(method='automatic', device='GPU')\n",
    "\n",
    "except AerError as e:\n",
    "    print(e)"
   ]
  },
  {
   "cell_type": "code",
   "execution_count": 23,
   "id": "b9a2303d-77b7-4905-b3e2-1d40b2a26f8c",
   "metadata": {},
   "outputs": [],
   "source": [
    "# Set the random seed for reproducibility\n",
    "algorithm_globals.random_seed = 42\n",
    "\n",
    "def generate_random_graph(n_nodes, edge_prob):\n",
    "    \"\"\"Generate a random graph with n nodes and edge probability.\"\"\"\n",
    "    return nx.gnp_random_graph(n_nodes, edge_prob, seed=42)\n",
    "\n",
    "def maxcut_obj_fun(graph):\n",
    "    \"\"\"Create the objective function for the maxcut problem.\"\"\"\n",
    "    w = np.zeros((len(graph.nodes), len(graph.nodes)))\n",
    "    for i, j in graph.edges():\n",
    "        w[i, j] = 1\n",
    "    return w\n",
    "\n",
    "def create_qaoa_circuit(graph):\n",
    "    \"\"\"Create a QAOA circuit for the given graph.\"\"\"\n",
    "    qubo = QuadraticProgram()\n",
    "    num_vertices = len(graph.nodes)\n",
    "    for i in range(num_vertices):\n",
    "        qubo.binary_var(name=f\"x_{i}\")\n",
    "    \n",
    "    # Add MaxCut objective to the QUBO\n",
    "    w = maxcut_obj_fun(graph)\n",
    "    qubo.minimize(quadratic=w)\n",
    "    \n",
    "    # Use QAOA to solve QUBO\n",
    "    optimizer = COBYLA()\n",
    "    qaoa = QAOA(optimizer, quantum_instance=Aer.get_backend('aer_simulator'), reps=1)\n",
    "    qaoa_optimizer = MinimumEigenOptimizer(qaoa)\n",
    "    \n",
    "    return qaoa, qaoa_optimizer, qubo\n",
    "\n",
    "def optimize_qaoa(qaoa, qaoa_optimizer, qubo):\n",
    "    \"\"\"Optimize QAOA parameters and return the result.\"\"\"\n",
    "    result = qaoa_optimizer.solve(qubo)\n",
    "    return result\n"
   ]
  },
  {
   "cell_type": "code",
   "execution_count": 24,
   "id": "0c6796c1-2a37-4a29-94b3-67024b4ca91b",
   "metadata": {},
   "outputs": [
    {
     "ename": "QiskitBackendNotFoundError",
     "evalue": "'More than one backend matches the criteria'",
     "output_type": "error",
     "traceback": [
      "\u001b[0;31m---------------------------------------------------------------------------\u001b[0m",
      "\u001b[0;31mQiskitBackendNotFoundError\u001b[0m                Traceback (most recent call last)",
      "Cell \u001b[0;32mIn[24], line 12\u001b[0m\n\u001b[1;32m      9\u001b[0m graphs \u001b[38;5;241m=\u001b[39m [generate_random_graph(n_nodes, edge_prob) \u001b[38;5;28;01mfor\u001b[39;00m _ \u001b[38;5;129;01min\u001b[39;00m \u001b[38;5;28mrange\u001b[39m(n_graphs)]\n\u001b[1;32m     11\u001b[0m \u001b[38;5;28;01mfor\u001b[39;00m graph \u001b[38;5;129;01min\u001b[39;00m graphs:\n\u001b[0;32m---> 12\u001b[0m     qaoa, qaoa_optimizer, qubo \u001b[38;5;241m=\u001b[39m \u001b[43mcreate_qaoa_circuit\u001b[49m\u001b[43m(\u001b[49m\u001b[43mgraph\u001b[49m\u001b[43m)\u001b[49m\n\u001b[1;32m     13\u001b[0m     result \u001b[38;5;241m=\u001b[39m optimize_qaoa(qaoa, qaoa_optimizer, qubo)\n\u001b[1;32m     14\u001b[0m     results\u001b[38;5;241m.\u001b[39mappend(result)\n",
      "Cell \u001b[0;32mIn[23], line 28\u001b[0m, in \u001b[0;36mcreate_qaoa_circuit\u001b[0;34m(graph)\u001b[0m\n\u001b[1;32m     26\u001b[0m \u001b[38;5;66;03m# Use QAOA to solve QUBO\u001b[39;00m\n\u001b[1;32m     27\u001b[0m optimizer \u001b[38;5;241m=\u001b[39m COBYLA()\n\u001b[0;32m---> 28\u001b[0m qaoa \u001b[38;5;241m=\u001b[39m QAOA(optimizer, quantum_instance\u001b[38;5;241m=\u001b[39m\u001b[43mAer\u001b[49m\u001b[38;5;241;43m.\u001b[39;49m\u001b[43mget_backend\u001b[49m\u001b[43m(\u001b[49m\u001b[38;5;124;43m'\u001b[39;49m\u001b[38;5;124;43maer_simulator\u001b[39;49m\u001b[38;5;124;43m'\u001b[39;49m\u001b[43m)\u001b[49m, reps\u001b[38;5;241m=\u001b[39m\u001b[38;5;241m1\u001b[39m)\n\u001b[1;32m     29\u001b[0m qaoa_optimizer \u001b[38;5;241m=\u001b[39m MinimumEigenOptimizer(qaoa)\n\u001b[1;32m     31\u001b[0m \u001b[38;5;28;01mreturn\u001b[39;00m qaoa, qaoa_optimizer, qubo\n",
      "File \u001b[0;32m~/virtualenvs/quantum/lib/python3.8/site-packages/qiskit_aer/aerprovider.py:67\u001b[0m, in \u001b[0;36mAerProvider.get_backend\u001b[0;34m(self, name, **kwargs)\u001b[0m\n\u001b[1;32m     66\u001b[0m \u001b[38;5;28;01mdef\u001b[39;00m \u001b[38;5;21mget_backend\u001b[39m(\u001b[38;5;28mself\u001b[39m, name\u001b[38;5;241m=\u001b[39m\u001b[38;5;28;01mNone\u001b[39;00m, \u001b[38;5;241m*\u001b[39m\u001b[38;5;241m*\u001b[39mkwargs):\n\u001b[0;32m---> 67\u001b[0m     \u001b[38;5;28;01mreturn\u001b[39;00m \u001b[38;5;28;43msuper\u001b[39;49m\u001b[43m(\u001b[49m\u001b[43m)\u001b[49m\u001b[38;5;241;43m.\u001b[39;49m\u001b[43mget_backend\u001b[49m\u001b[43m(\u001b[49m\u001b[43mname\u001b[49m\u001b[38;5;241;43m=\u001b[39;49m\u001b[43mname\u001b[49m\u001b[43m,\u001b[49m\u001b[43m \u001b[49m\u001b[38;5;241;43m*\u001b[39;49m\u001b[38;5;241;43m*\u001b[39;49m\u001b[43mkwargs\u001b[49m\u001b[43m)\u001b[49m\n",
      "File \u001b[0;32m~/virtualenvs/quantum/lib/python3.8/site-packages/qiskit/utils/deprecation.py:96\u001b[0m, in \u001b[0;36mdeprecate_func.<locals>.decorator.<locals>.wrapper\u001b[0;34m(*args, **kwargs)\u001b[0m\n\u001b[1;32m     93\u001b[0m \u001b[38;5;129m@functools\u001b[39m\u001b[38;5;241m.\u001b[39mwraps(func)\n\u001b[1;32m     94\u001b[0m \u001b[38;5;28;01mdef\u001b[39;00m \u001b[38;5;21mwrapper\u001b[39m(\u001b[38;5;241m*\u001b[39margs, \u001b[38;5;241m*\u001b[39m\u001b[38;5;241m*\u001b[39mkwargs):\n\u001b[1;32m     95\u001b[0m     warnings\u001b[38;5;241m.\u001b[39mwarn(msg, category\u001b[38;5;241m=\u001b[39mcategory, stacklevel\u001b[38;5;241m=\u001b[39m\u001b[38;5;241m2\u001b[39m)\n\u001b[0;32m---> 96\u001b[0m     \u001b[38;5;28;01mreturn\u001b[39;00m \u001b[43mfunc\u001b[49m\u001b[43m(\u001b[49m\u001b[38;5;241;43m*\u001b[39;49m\u001b[43margs\u001b[49m\u001b[43m,\u001b[49m\u001b[43m \u001b[49m\u001b[38;5;241;43m*\u001b[39;49m\u001b[38;5;241;43m*\u001b[39;49m\u001b[43mkwargs\u001b[49m\u001b[43m)\u001b[49m\n",
      "File \u001b[0;32m~/virtualenvs/quantum/lib/python3.8/site-packages/qiskit/providers/provider.py:69\u001b[0m, in \u001b[0;36mProviderV1.get_backend\u001b[0;34m(self, name, **kwargs)\u001b[0m\n\u001b[1;32m     67\u001b[0m backends \u001b[38;5;241m=\u001b[39m \u001b[38;5;28mself\u001b[39m\u001b[38;5;241m.\u001b[39mbackends(name, \u001b[38;5;241m*\u001b[39m\u001b[38;5;241m*\u001b[39mkwargs)\n\u001b[1;32m     68\u001b[0m \u001b[38;5;28;01mif\u001b[39;00m \u001b[38;5;28mlen\u001b[39m(backends) \u001b[38;5;241m>\u001b[39m \u001b[38;5;241m1\u001b[39m:\n\u001b[0;32m---> 69\u001b[0m     \u001b[38;5;28;01mraise\u001b[39;00m QiskitBackendNotFoundError(\u001b[38;5;124m\"\u001b[39m\u001b[38;5;124mMore than one backend matches the criteria\u001b[39m\u001b[38;5;124m\"\u001b[39m)\n\u001b[1;32m     70\u001b[0m \u001b[38;5;28;01mif\u001b[39;00m \u001b[38;5;129;01mnot\u001b[39;00m backends:\n\u001b[1;32m     71\u001b[0m     \u001b[38;5;28;01mraise\u001b[39;00m QiskitBackendNotFoundError(\u001b[38;5;124m\"\u001b[39m\u001b[38;5;124mNo backend matches the criteria\u001b[39m\u001b[38;5;124m\"\u001b[39m)\n",
      "\u001b[0;31mQiskitBackendNotFoundError\u001b[0m: 'More than one backend matches the criteria'"
     ]
    }
   ],
   "source": [
    "# Number of nodes in each graph\n",
    "n_nodes = 5\n",
    "# Probability of an edge between nodes\n",
    "edge_prob = 0.5\n",
    "# Number of graphs\n",
    "n_graphs = 100\n",
    "\n",
    "results = []\n",
    "graphs = [generate_random_graph(n_nodes, edge_prob) for _ in range(n_graphs)]\n",
    "\n",
    "for graph in graphs:\n",
    "    qaoa, qaoa_optimizer, qubo = create_qaoa_circuit(graph)\n",
    "    result = optimize_qaoa(qaoa, qaoa_optimizer, qubo)\n",
    "    results.append(result)\n",
    "\n",
    "# Plotting one of the graphs and its result\n",
    "graph = graphs[0]\n",
    "result = results[0]\n",
    "colors = ['r' if result.variables_dict[f'x_{i}'] == 0 else 'b' for i in range(n_nodes)]\n",
    "nx.draw(graph, node_color=colors, with_labels=True)\n",
    "plt.show()\n",
    "\n",
    "# Print the optimal result for the first graph\n",
    "print(\"Optimal result for the first graph:\", result)"
   ]
  },
  {
   "cell_type": "code",
   "execution_count": null,
   "id": "1663cf4c-383d-47dc-a6cb-e93db69991d0",
   "metadata": {},
   "outputs": [],
   "source": []
  },
  {
   "cell_type": "code",
   "execution_count": null,
   "id": "4dad587e-b272-43b0-9b41-54ad60a1625a",
   "metadata": {},
   "outputs": [],
   "source": []
  },
  {
   "cell_type": "code",
   "execution_count": null,
   "id": "4edd4710-8e42-405e-8083-d717006bf79d",
   "metadata": {},
   "outputs": [],
   "source": []
  },
  {
   "cell_type": "code",
   "execution_count": null,
   "id": "a4129fbb-c40a-4850-99ea-237ee0be685f",
   "metadata": {},
   "outputs": [],
   "source": []
  },
  {
   "cell_type": "code",
   "execution_count": null,
   "id": "b3f61d69-bd28-4621-8204-5717ac35deae",
   "metadata": {},
   "outputs": [],
   "source": []
  },
  {
   "cell_type": "code",
   "execution_count": 14,
   "id": "7ad33e52-1961-4773-9995-d4cc16a01a88",
   "metadata": {},
   "outputs": [
    {
     "data": {
      "image/png": "[encoded data removed]",
      "text/plain": [
       "<Figure size 640x480 with 1 Axes>"
      ]
     },
     "execution_count": 14,
     "metadata": {},
     "output_type": "execute_result"
    }
   ],
   "source": [
    "# Create circuit\n",
    "circ = QuantumCircuit(2)\n",
    "circ.h(0)\n",
    "circ.cx(0, 1)\n",
    "circ.measure_all()\n",
    "\n",
    "# Transpile for simulator\n",
    "simulator = AerSimulator()\n",
    "circ = transpile(circ, simulator)\n",
    "\n",
    "# Run and get counts\n",
    "result = simulator.run(circ).result()\n",
    "counts = result.get_counts(circ)\n",
    "plot_histogram(counts, title='Bell-State counts')"
   ]
  },
  {
   "cell_type": "code",
   "execution_count": null,
   "id": "8f58ffd1-0849-4944-a139-8f19d7045f70",
   "metadata": {},
   "outputs": [],
   "source": []
  },
  {
   "cell_type": "code",
   "execution_count": null,
   "id": "632d08e5-1561-443e-a2fa-a8bbc6b0d968",
   "metadata": {},
   "outputs": [],
   "source": []
  },
  {
   "cell_type": "code",
   "execution_count": null,
   "id": "9529ee43-fd48-44f5-a8b0-dc52e40647ed",
   "metadata": {},
   "outputs": [],
   "source": []
  },
  {
   "cell_type": "code",
   "execution_count": 2,
   "id": "823ad34c-77bd-42c8-aa34-93b598196b53",
   "metadata": {},
   "outputs": [
    {
     "ename": "ImportError",
     "evalue": "cannot import name 'Aer' from 'qiskit' (/home/daniel/virtualenvs/quantum/lib/python3.8/site-packages/qiskit/__init__.py)",
     "output_type": "error",
     "traceback": [
      "\u001b[0;31m---------------------------------------------------------------------------\u001b[0m",
      "\u001b[0;31mImportError\u001b[0m                               Traceback (most recent call last)",
      "Cell \u001b[0;32mIn[2], line 1\u001b[0m\n\u001b[0;32m----> 1\u001b[0m \u001b[38;5;28;01mfrom\u001b[39;00m \u001b[38;5;21;01mqiskit\u001b[39;00m \u001b[38;5;28;01mimport\u001b[39;00m Aer\n",
      "\u001b[0;31mImportError\u001b[0m: cannot import name 'Aer' from 'qiskit' (/home/daniel/virtualenvs/quantum/lib/python3.8/site-packages/qiskit/__init__.py)"
     ]
    }
   ],
   "source": [
    "from qiskit import Aer"
   ]
  },
  {
   "cell_type": "code",
   "execution_count": 2,
   "id": "7df1ce6a-15aa-4e8f-9911-507924f908e2",
   "metadata": {},
   "outputs": [],
   "source": [
    "# OLD VERSION qiskit 0.X\n",
    "# from qiskit import IBMQ\n",
    "# IBMQ.load_account()"
   ]
  },
  {
   "cell_type": "code",
   "execution_count": null,
   "id": "83f96d4b-e840-401e-af43-f091131f3197",
   "metadata": {},
   "outputs": [
    {
     "name": "stdout",
     "output_type": "stream",
     "text": [
      "job id: csr4j99vnxy0008e88hg\n"
     ]
    }
   ],
   "source": [
    "from qiskit import QuantumCircuit\n",
    "from qiskit_ibm_runtime import QiskitRuntimeService, SamplerV2 as Sampler\n",
    " \n",
    "# Create empty circuit\n",
    "example_circuit = QuantumCircuit(2)\n",
    "example_circuit.measure_all()\n",
    " \n",
    "# You'll need to specify the credentials when initializing QiskitRuntimeService, if they were not previously saved.\n",
    "service = QiskitRuntimeService()\n",
    "backend = service.least_busy(operational=True, simulator=False)\n",
    " \n",
    "sampler = Sampler(backend)\n",
    "job = sampler.run([example_circuit])\n",
    "print(f\"job id: {job.job_id()}\")\n",
    "result = job.result()\n",
    "print(result)"
   ]
  },
  {
   "cell_type": "code",
   "execution_count": null,
   "id": "2e2ab921-4ae4-4646-8b2d-58189fb89c1b",
   "metadata": {},
   "outputs": [],
   "source": []
  },
  {
   "cell_type": "code",
   "execution_count": null,
   "id": "ae18c1e2-9bbb-43ca-a713-d3c357b1ef56",
   "metadata": {},
   "outputs": [],
   "source": []
  },
  {
   "cell_type": "code",
   "execution_count": 3,
   "id": "c67e9480-8609-4787-b297-241b233d444d",
   "metadata": {},
   "outputs": [],
   "source": [
    "from qiskit import *"
   ]
  },
  {
   "cell_type": "code",
   "execution_count": 4,
   "id": "8d404b52-528c-4b0f-94c5-4ded4b2a43d2",
   "metadata": {},
   "outputs": [],
   "source": [
    "%matplotlib inline"
   ]
  },
  {
   "cell_type": "code",
   "execution_count": 5,
   "id": "04facbcc-ef2d-4e9c-a62c-36fe111bc8d4",
   "metadata": {},
   "outputs": [],
   "source": [
    "qreg = QuantumRegister(2)  # Q-register\n",
    "creg = ClassicalRegister(2) # classical register to make the measurements\n",
    "circuit = QuantumCircuit(qreg,creg)"
   ]
  },
  {
   "cell_type": "code",
   "execution_count": 6,
   "id": "be8c09e8-cf7f-42f1-ab4b-66b7adc89afd",
   "metadata": {},
   "outputs": [
    {
     "data": {
      "text/html": [
       "<pre style=\"word-wrap: normal;white-space: pre;background: #fff0;line-height: 1.1;font-family: &quot;Courier New&quot;,Courier,monospace\">      \n",
       "q0_0: \n",
       "      \n",
       "q0_1: \n",
       "      \n",
       "c0: 2/\n",
       "      </pre>"
      ],
      "text/plain": [
       "      \n",
       "q0_0: \n",
       "      \n",
       "q0_1: \n",
       "      \n",
       "c0: 2/\n",
       "      "
      ]
     },
     "execution_count": 6,
     "metadata": {},
     "output_type": "execute_result"
    }
   ],
   "source": [
    "circuit.draw()"
   ]
  },
  {
   "cell_type": "code",
   "execution_count": 7,
   "id": "5c98fd34-477a-4f1a-b63d-6c3d32e39a39",
   "metadata": {},
   "outputs": [
    {
     "data": {
      "text/plain": [
       "<qiskit.circuit.instructionset.InstructionSet at 0x7f22c05a8f70>"
      ]
     },
     "execution_count": 7,
     "metadata": {},
     "output_type": "execute_result"
    }
   ],
   "source": [
    "circuit.h(qreg[0])"
   ]
  },
  {
   "cell_type": "code",
   "execution_count": 8,
   "id": "b11b1895-cb88-4568-9746-ad209c0cdbbf",
   "metadata": {},
   "outputs": [
    {
     "data": {
      "text/html": [
       "<pre style=\"word-wrap: normal;white-space: pre;background: #fff0;line-height: 1.1;font-family: &quot;Courier New&quot;,Courier,monospace\">      ┌───┐\n",
       "q0_0: ┤ H ├\n",
       "      └───┘\n",
       "q0_1: ─────\n",
       "           \n",
       "c0: 2/═════\n",
       "           </pre>"
      ],
      "text/plain": [
       "      ┌───┐\n",
       "q0_0: ┤ H ├\n",
       "      └───┘\n",
       "q0_1: ─────\n",
       "           \n",
       "c0: 2/═════\n",
       "           "
      ]
     },
     "execution_count": 8,
     "metadata": {},
     "output_type": "execute_result"
    }
   ],
   "source": [
    "circuit.draw()"
   ]
  },
  {
   "cell_type": "code",
   "execution_count": 9,
   "id": "47abbc5c-c92c-45a3-a88b-36fabd5768a4",
   "metadata": {},
   "outputs": [
    {
     "data": {
      "text/plain": [
       "<qiskit.circuit.instructionset.InstructionSet at 0x7f22c05a8fa0>"
      ]
     },
     "execution_count": 9,
     "metadata": {},
     "output_type": "execute_result"
    }
   ],
   "source": [
    "circuit.cx(qreg[0], qreg[1]) "
   ]
  },
  {
   "cell_type": "code",
   "execution_count": 10,
   "id": "53db0bff-eae4-4a15-b670-3c95dd5fb411",
   "metadata": {},
   "outputs": [
    {
     "data": {
      "text/html": [
       "<pre style=\"word-wrap: normal;white-space: pre;background: #fff0;line-height: 1.1;font-family: &quot;Courier New&quot;,Courier,monospace\">      ┌───┐     \n",
       "q0_0: ┤ H ├──■──\n",
       "      └───┘┌─┴─┐\n",
       "q0_1: ─────┤ X ├\n",
       "           └───┘\n",
       "c0: 2/══════════\n",
       "                </pre>"
      ],
      "text/plain": [
       "      ┌───┐     \n",
       "q0_0: ┤ H ├──■──\n",
       "      └───┘┌─┴─┐\n",
       "q0_1: ─────┤ X ├\n",
       "           └───┘\n",
       "c0: 2/══════════\n",
       "                "
      ]
     },
     "execution_count": 10,
     "metadata": {},
     "output_type": "execute_result"
    }
   ],
   "source": [
    "circuit.draw()"
   ]
  },
  {
   "cell_type": "code",
   "execution_count": 11,
   "id": "a71dae5b-4337-4730-a3e5-3a9e8360f986",
   "metadata": {},
   "outputs": [
    {
     "data": {
      "text/plain": [
       "<qiskit.circuit.instructionset.InstructionSet at 0x7f22c05a9210>"
      ]
     },
     "execution_count": 11,
     "metadata": {},
     "output_type": "execute_result"
    }
   ],
   "source": [
    "circuit.measure(qreg, creg)"
   ]
  },
  {
   "cell_type": "code",
   "execution_count": 12,
   "id": "72cd5b01-9083-4820-9782-b4ae5e1f99a4",
   "metadata": {},
   "outputs": [
    {
     "data": {
      "text/html": [
       "<pre style=\"word-wrap: normal;white-space: pre;background: #fff0;line-height: 1.1;font-family: &quot;Courier New&quot;,Courier,monospace\">      ┌───┐     ┌─┐   \n",
       "q0_0: ┤ H ├──■──┤M├───\n",
       "      └───┘┌─┴─┐└╥┘┌─┐\n",
       "q0_1: ─────┤ X ├─╫─┤M├\n",
       "           └───┘ ║ └╥┘\n",
       "c0: 2/═══════════╩══╩═\n",
       "                 0  1 </pre>"
      ],
      "text/plain": [
       "      ┌───┐     ┌─┐   \n",
       "q0_0: ┤ H ├──■──┤M├───\n",
       "      └───┘┌─┴─┐└╥┘┌─┐\n",
       "q0_1: ─────┤ X ├─╫─┤M├\n",
       "           └───┘ ║ └╥┘\n",
       "c0: 2/═══════════╩══╩═\n",
       "                 0  1 "
      ]
     },
     "execution_count": 12,
     "metadata": {},
     "output_type": "execute_result"
    }
   ],
   "source": [
    "circuit.draw()"
   ]
  },
  {
   "cell_type": "markdown",
   "id": "37d994fa-ff2f-4266-9b19-552ed2b4d589",
   "metadata": {},
   "source": [
    "## Quantum Simulator backend"
   ]
  },
  {
   "cell_type": "code",
   "execution_count": 14,
   "id": "19635004-f756-4833-b5a8-871ac7d8287e",
   "metadata": {},
   "outputs": [],
   "source": [
    "simulator = Aer.get_backend('qasm_simulator')"
   ]
  },
  {
   "cell_type": "code",
   "execution_count": 29,
   "id": "938ab2b7-f045-40b8-b72a-99745c1d188a",
   "metadata": {},
   "outputs": [],
   "source": [
    "result = execute(circuit, backend = simulator, shots=10000).result()"
   ]
  },
  {
   "cell_type": "code",
   "execution_count": 30,
   "id": "cba130fb-b825-49b9-b7da-540a6ed40004",
   "metadata": {},
   "outputs": [
    {
     "name": "stdout",
     "output_type": "stream",
     "text": [
      "Result(backend_name='qasm_simulator', backend_version='0.13.2', qobj_id='', job_id='bfdf8113-f8ff-4cd7-bee5-87700cd0ef31', success=True, results=[ExperimentResult(shots=10000, success=True, meas_level=2, data=ExperimentResultData(counts={'0x3': 5068, '0x0': 4932}), header=QobjExperimentHeader(creg_sizes=[['c0', 2]], global_phase=0.0, memory_slots=2, n_qubits=2, name='circuit-152', qreg_sizes=[['q0', 2]], metadata={}), status=DONE, seed_simulator=3635975600, metadata={'time_taken': 0.0150678, 'num_bind_params': 1, 'parallel_state_update': 8, 'parallel_shots': 1, 'required_memory_mb': 0, 'input_qubit_map': [[1, 1], [0, 0]], 'method': 'stabilizer', 'device': 'CPU', 'num_qubits': 2, 'sample_measure_time': 0.00600355, 'active_input_qubits': [0, 1], 'num_clbits': 2, 'remapped_qubits': False, 'runtime_parameter_bind': False, 'max_memory_mb': 15670, 'noise': 'ideal', 'measure_sampling': True, 'batched_shots_optimization': False, 'fusion': {'enabled': False}}, time_taken=0.0150678)], date=2024-01-23T15:19:24.668008, status=COMPLETED, header=None, metadata={'time_taken_parameter_binding': 9.25e-06, 'time_taken_execute': 0.015094631, 'omp_enabled': True, 'max_gpu_memory_mb': 0, 'max_memory_mb': 15670, 'parallel_experiments': 1}, time_taken=0.015631437301635742)\n"
     ]
    }
   ],
   "source": [
    "print(result)"
   ]
  },
  {
   "cell_type": "code",
   "execution_count": 31,
   "id": "aabc0a54-66a8-4f32-87cf-f92296fcb629",
   "metadata": {},
   "outputs": [],
   "source": [
    "from qiskit.visualization import plot_histogram"
   ]
  },
  {
   "cell_type": "code",
   "execution_count": 32,
   "id": "f00b2b45-b7c6-4d48-ac13-1cefb0cb526e",
   "metadata": {},
   "outputs": [
    {
     "data": {
      "image/png": "[encoded data removed]",
      "text/plain": [
       "<Figure size 700x500 with 1 Axes>"
      ]
     },
     "execution_count": 32,
     "metadata": {},
     "output_type": "execute_result"
    }
   ],
   "source": [
    "plot_histogram(result.get_counts(circuit))\n"
   ]
  },
  {
   "cell_type": "code",
   "execution_count": 33,
   "id": "3a87f6af-9ae4-4000-858e-d40f0caf2170",
   "metadata": {},
   "outputs": [
    {
     "data": {
      "text/plain": [
       "{'11': 5068, '00': 4932}"
      ]
     },
     "execution_count": 33,
     "metadata": {},
     "output_type": "execute_result"
    }
   ],
   "source": [
    "result.get_counts()"
   ]
  },
  {
   "cell_type": "markdown",
   "id": "c41638f6-ba0e-4fab-8c08-b316cde2c23a",
   "metadata": {},
   "source": [
    "## IBM Quantum Computer Backend"
   ]
  },
  {
   "cell_type": "code",
   "execution_count": 36,
   "id": "aa62f688-1d4d-4553-9dba-ac6ee611730f",
   "metadata": {},
   "outputs": [
    {
     "name": "stderr",
     "output_type": "stream",
     "text": [
      "ibmqfactory.load_account:WARNING:2024-01-23 15:20:26,331: Credentials are already in use. The existing account in the session will be replaced.\n"
     ]
    },
    {
     "data": {
      "text/plain": [
       "<AccountProvider for IBMQ(hub='ibm-q', group='open', project='main')>"
      ]
     },
     "execution_count": 36,
     "metadata": {},
     "output_type": "execute_result"
    }
   ],
   "source": [
    "IBMQ.load_account()"
   ]
  },
  {
   "cell_type": "code",
   "execution_count": 38,
   "id": "e7fb46d7-95d7-4c49-808e-357251908a7a",
   "metadata": {},
   "outputs": [],
   "source": [
    "provider = IBMQ.get_provider('ibm-q')"
   ]
  },
  {
   "cell_type": "code",
   "execution_count": 40,
   "id": "b5f8f890-8a64-440d-83ef-eea1708d928b",
   "metadata": {},
   "outputs": [
    {
     "name": "stdout",
     "output_type": "stream",
     "text": [
      "\n",
      " Cloud backends:\n",
      "ibmq_qasm_simulator\n",
      "simulator_statevector\n",
      "simulator_mps\n",
      "simulator_extended_stabilizer\n",
      "simulator_stabilizer\n",
      "ibm_brisbane\n",
      "ibm_kyoto\n",
      "ibm_osaka\n",
      "\n",
      " Local backends: \n",
      "AerSimulator('aer_simulator')\n",
      "AerSimulator('aer_simulator')\n",
      "AerSimulator('aer_simulator')\n",
      "AerSimulator('aer_simulator')\n",
      "AerSimulator('aer_simulator')\n",
      "AerSimulator('aer_simulator')\n",
      "AerSimulator('aer_simulator')\n",
      "AerSimulator('aer_simulator')\n",
      "QasmSimulator('qasm_simulator')\n",
      "StatevectorSimulator('statevector_simulator')\n",
      "UnitarySimulator('unitary_simulator')\n"
     ]
    }
   ],
   "source": [
    "available_cloud_backends = provider.backends()\n",
    "print('\\n Cloud backends:')\n",
    "\n",
    "for i in available_cloud_backends: \n",
    "    print(i)\n",
    "\n",
    "available_local_backends = Aer.backends()    \n",
    "print('\\n Local backends: ')\n",
    "for i in available_local_backends: \n",
    "    print(i)"
   ]
  },
  {
   "cell_type": "code",
   "execution_count": 44,
   "id": "da6b7604-e990-4343-af19-b1ca22d90ca5",
   "metadata": {},
   "outputs": [],
   "source": [
    "qcomp = provider.get_backend('ibm_osaka')\n",
    "job = execute(circuit, backend = qcomp)"
   ]
  },
  {
   "cell_type": "code",
   "execution_count": 46,
   "id": "dd3078c3-345d-4997-97cb-9df5053ba2bb",
   "metadata": {},
   "outputs": [],
   "source": [
    "from qiskit.tools.monitor import job_monitor"
   ]
  },
  {
   "cell_type": "code",
   "execution_count": 47,
   "id": "f3b86c45-1481-49e3-b093-cd46c0a1ab74",
   "metadata": {},
   "outputs": [
    {
     "name": "stdout",
     "output_type": "stream",
     "text": [
      "Job Status: job has successfully run\n"
     ]
    }
   ],
   "source": [
    "job_monitor(job)"
   ]
  },
  {
   "cell_type": "code",
   "execution_count": 48,
   "id": "ba1a3357-9c34-41ee-8d4a-04132855ec8e",
   "metadata": {},
   "outputs": [
    {
     "data": {
      "image/png": "[encoded data removed]",
      "text/plain": [
       "<Figure size 700x500 with 1 Axes>"
      ]
     },
     "execution_count": 48,
     "metadata": {},
     "output_type": "execute_result"
    }
   ],
   "source": [
    "result = job.result()\n",
    "plot_histogram(result.get_counts(circuit))"
   ]
  },
  {
   "cell_type": "code",
   "execution_count": null,
   "id": "befce2c3-29b6-4383-97e9-acfd2583082c",
   "metadata": {},
   "outputs": [],
   "source": []
  },
  {
   "cell_type": "code",
   "execution_count": null,
   "id": "201a7233-2396-4f5d-bef6-2fa7f53600dc",
   "metadata": {},
   "outputs": [],
   "source": []
  }
 ],
 "metadata": {
  "kernelspec": {
   "display_name": "Python 3 (ipykernel)",
   "language": "python",
   "name": "python3"
  },
  "language_info": {
   "codemirror_mode": {
    "name": "ipython",
    "version": 3
   },
   "file_extension": ".py",
   "mimetype": "text/x-python",
   "name": "python",
   "nbconvert_exporter": "python",
   "pygments_lexer": "ipython3",
   "version": "3.8.10"
  }
 },
 "nbformat": 4,
 "nbformat_minor": 5
}
